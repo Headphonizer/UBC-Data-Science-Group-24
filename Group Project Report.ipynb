{
 "cells": [
  {
   "cell_type": "markdown",
   "id": "a9824d38-65fd-48b0-9873-477b1b9d0c3d",
   "metadata": {},
   "source": [
    "TITLE\n",
    "\n",
    "INTRODUCTION\n",
    "\n",
    "In this group project, we have a lot of data about gamers. The data of the gamers has been recorded while they are spending their time in the Minecraft server, and the data will be used for researchers to study how gamers play video games.\n",
    "\n",
    "After some discussion, we all agree that gaming newsletter is a great way to make money. Therefore, we decided to use the methods we've learned in data science to analyze players and predict whether they will subscribe to the gaming newsletter.\n",
    "\n",
    "During this project, we will only use the player section of the whole database. The dataset that we are working on includes the information of 197 players in total. Information such as experience, hashedEmail, hours played, name, gender, and age are all included. Almost all of the types of variables are strings and numbers, and only a few of them are NA values.\n"
   ]
  },
  {
   "cell_type": "code",
   "execution_count": null,
   "id": "4626a6bd-4469-4912-b2fd-f8a869fbb97f",
   "metadata": {},
   "outputs": [],
   "source": []
  },
  {
   "cell_type": "markdown",
   "id": "f561cfc8-f6a1-47f1-b4d2-047ecb6499bd",
   "metadata": {},
   "source": [
    "**Discussion:**\n",
    "**Logistic Regression Analysis and the Impact of Key Findings**\n",
    "We used a logistic regression model to analyze the factors that influence whether players will subscribe to a given service or platform. Logistic regression was the appropriate choice for this analysis because the dependent variable “subscription status” was binary: players either subscribed (1) or did not (0). The independent variables included demographic and behavioral features such as player experience level, gender identity, number of hours played, and age.\n",
    "\n",
    "From the model output, we observed that age was the only statistically significant predictor of subscription behavior. The coefficient for age was 0.10, with a p-value of 0.00118, which is below the common 0.05 threshold for significance. This indicates a strong, positive relationship between age and the likelihood of subscribing. In practical terms, older players were more likely to subscribe than younger ones. For each additional year of age, the odds of subscribing increased by approximately 10.5% (since exp(0.10) ≈ 1.105). This suggests that older players may find more value in the service or have more disposable income to afford a subscription. As a result, companies may consider targeting older users through marketing or tailored subscription incentives.\n",
    "\n",
    "In contrast, player experience level and hours played did not show statistically significant associations with subscription. Some experience levels, like “Beginner” and “Regular,” had negative coefficients, while others such as “Pro” and “Veteran” were positive. However, none were statistically significant. This suggests that a player’s self-reported experience level does not meaningfully influence their likelihood of subscribing—at least in this dataset.\n",
    "\n",
    "However, the reliability of how “experience” was captured needs to be questioned. The experience variable was a categorical field with multiple labels, but it is unclear how consistently those categories were applied. Was experience self-assigned? System-generated? If the labeling was subjective or ambiguous, the model may be estimating effects based on a weak or inconsistent variable. Additionally, if some categories had very few members, the model would lack the statistical power to detect any real effect. Future studies could benefit from a more concrete or quantifiable measure of experience, such as total games played or time since registration.\n",
    "\n",
    "The gender variable also showed signs of potential data issues. Coefficients for gender identities like “Male,” “Female,” “Non-binary,” and others were extremely large (around 14–16) with equally huge standard errors (around 994). These inflated values suggest a lack of balance in the data or even perfect separation—situations where all individuals of a particular gender either subscribed or didn’t. This results in unreliable estimates. A solution could be consolidating rare gender identities into a broader “Other” category to stabilize the model.\n",
    "\n",
    "In conclusion, this logistic regression model identifies age as a meaningful predictor of subscription behavior. At the same time, variables like experience and gender may need better structuring or more data to be useful. The impact of these findings could guide marketing strategies, such as targeting older users. However, the model also highlights the importance of clean, balanced, and clearly defined data in building reliable predictive models.\n",
    "\n"
   ]
  },
  {
   "cell_type": "code",
   "execution_count": null,
   "id": "dfa96814-9a0d-41f9-9b71-1943bfe18369",
   "metadata": {},
   "outputs": [],
   "source": []
  }
 ],
 "metadata": {
  "kernelspec": {
   "display_name": "R",
   "language": "R",
   "name": "ir"
  },
  "language_info": {
   "codemirror_mode": "r",
   "file_extension": ".r",
   "mimetype": "text/x-r-source",
   "name": "R",
   "pygments_lexer": "r",
   "version": "4.3.3"
  }
 },
 "nbformat": 4,
 "nbformat_minor": 5
}
