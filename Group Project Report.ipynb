{
 "cells": [
  {
   "cell_type": "markdown",
   "id": "a9824d38-65fd-48b0-9873-477b1b9d0c3d",
   "metadata": {},
   "source": [
    "In this group project, we have a lot of data about gamers. The data of the gamers has been recorded while they are spending their time in the Minecraft server, and the data will be used for researchers to study how gamers play video games.\n",
    "\n",
    "After some discussion, we all agree that gaming newsletter is a great way to make money. Therefore, we decided to use the methods we've learned in data science to analyze players and predict whether they will subscribe to the gaming newsletter.\n",
    "\n",
    "During this project, we will only use the player section of the whole database. The dataset that we are working on includes the information of 197 players in total. Information such as experience, hashedEmail, hours played, name, gender, and age are all included. Almost all of the types of variables are strings and numbers, and only a few of them are NA values.\n"
   ]
  },
  {
   "cell_type": "code",
   "execution_count": null,
   "id": "4626a6bd-4469-4912-b2fd-f8a869fbb97f",
   "metadata": {},
   "outputs": [],
   "source": []
  },
  {
   "cell_type": "code",
   "execution_count": null,
   "id": "2f32f90e-ff37-4187-aab4-ddfc28a2dba9",
   "metadata": {},
   "outputs": [],
   "source": []
  }
 ],
 "metadata": {
  "kernelspec": {
   "display_name": "R",
   "language": "R",
   "name": "ir"
  },
  "language_info": {
   "codemirror_mode": "r",
   "file_extension": ".r",
   "mimetype": "text/x-r-source",
   "name": "R",
   "pygments_lexer": "r",
   "version": "4.3.3"
  }
 },
 "nbformat": 4,
 "nbformat_minor": 5
}
